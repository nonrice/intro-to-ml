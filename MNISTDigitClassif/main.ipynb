{
 "cells": [
  {
   "cell_type": "markdown",
   "metadata": {},
   "source": [
    "# MNIST Digit Recognition"
   ]
  },
  {
   "cell_type": "code",
   "execution_count": null,
   "metadata": {},
   "outputs": [],
   "source": [
    "import pandas as pd\n",
    "import numpy as np\n",
    "from matplotlib import pyplot as plt"
   ]
  },
  {
   "cell_type": "markdown",
   "metadata": {},
   "source": [
    "### Load and preview data"
   ]
  },
  {
   "cell_type": "code",
   "execution_count": 1,
   "metadata": {},
   "outputs": [
    {
     "name": "stdout",
     "output_type": "stream",
     "text": [
      "Training input dataset shape: (60000, 28, 28)\n",
      "Training output dataset shape: (60000,)\n"
     ]
    },
    {
     "data": {
      "text/plain": [
       "<matplotlib.image.AxesImage at 0x142f64520>"
      ]
     },
     "execution_count": 1,
     "metadata": {},
     "output_type": "execute_result"
    },
    {
     "data": {
      "image/png": "[encoded data removed]",
      "text/plain": [
       "<Figure size 432x288 with 1 Axes>"
      ]
     },
     "metadata": {
      "needs_background": "light"
     },
     "output_type": "display_data"
    }
   ],
   "source": [
    "from tensorflow.keras.datasets import mnist\n",
    "\n",
    "# Loading in data\n",
    "(X_train, y_train), (X_test, y_test) = mnist.load_data()\n",
    "\n",
    "print(\"Training input dataset shape:\", X_train.shape)\n",
    "print(\"Training output dataset shape:\", y_train.shape)\n",
    "plt.imshow(X_train[1], cmap=\"gray\")\n"
   ]
  },
  {
   "cell_type": "markdown",
   "metadata": {},
   "source": [
    "### Normalize input images and encode output data"
   ]
  },
  {
   "cell_type": "code",
   "execution_count": 2,
   "metadata": {},
   "outputs": [
    {
     "name": "stdout",
     "output_type": "stream",
     "text": [
      "   0  1  2  3  4  5  6  7  8  9\n",
      "0  0  0  0  0  0  1  0  0  0  0\n",
      "1  1  0  0  0  0  0  0  0  0  0\n",
      "2  0  0  0  0  1  0  0  0  0  0\n",
      "3  0  1  0  0  0  0  0  0  0  0\n",
      "4  0  0  0  0  0  0  0  0  0  1\n"
     ]
    }
   ],
   "source": [
    "# Turning data into preferred data format\n",
    "X_train = X_train.astype('float32')\n",
    "X_test = X_test.astype('float32')\n",
    "\n",
    "# Normalize Images\n",
    "X_train /= 255.0\n",
    "X_test /= 255.0\n",
    "\n",
    "# Wrap each pixel into a dimension (keras assumes images have multiple channels, even though we only have one)\n",
    "X_train = X_train.reshape(X_train.shape[0], 28, 28, 1)\n",
    "X_test = X_test.reshape(X_test.shape[0], 28, 28, 1)\n",
    "\n",
    "# One hot encode output data\n",
    "y_train = pd.get_dummies(y_train)\n",
    "y_test = pd.get_dummies(y_test)\n",
    "print(y_train.head())"
   ]
  },
  {
   "cell_type": "markdown",
   "metadata": {},
   "source": [
    "### Building the model"
   ]
  },
  {
   "cell_type": "code",
   "execution_count": 3,
   "metadata": {},
   "outputs": [
    {
     "name": "stdout",
     "output_type": "stream",
     "text": [
      "Metal device set to: Apple M1\n",
      "\n",
      "systemMemory: 8.00 GB\n",
      "maxCacheSize: 2.67 GB\n",
      "\n"
     ]
    },
    {
     "name": "stderr",
     "output_type": "stream",
     "text": [
      "2022-06-12 13:50:07.870583: I tensorflow/core/common_runtime/pluggable_device/pluggable_device_factory.cc:305] Could not identify NUMA node of platform GPU ID 0, defaulting to 0. Your kernel may not have been built with NUMA support.\n",
      "2022-06-12 13:50:07.870719: I tensorflow/core/common_runtime/pluggable_device/pluggable_device_factory.cc:271] Created TensorFlow device (/job:localhost/replica:0/task:0/device:GPU:0 with 0 MB memory) -> physical PluggableDevice (device: 0, name: METAL, pci bus id: <undefined>)\n"
     ]
    },
    {
     "name": "stdout",
     "output_type": "stream",
     "text": [
      "Model: \"sequential\"\n",
      "_________________________________________________________________\n",
      " Layer (type)                Output Shape              Param #   \n",
      "=================================================================\n",
      " conv2d (Conv2D)             (None, 28, 28, 16)        416       \n",
      "                                                                 \n",
      " conv2d_1 (Conv2D)           (None, 28, 28, 16)        6416      \n",
      "                                                                 \n",
      " max_pooling2d (MaxPooling2D  (None, 14, 14, 16)       0         \n",
      " )                                                               \n",
      "                                                                 \n",
      " conv2d_2 (Conv2D)           (None, 14, 14, 16)        2320      \n",
      "                                                                 \n",
      " conv2d_3 (Conv2D)           (None, 14, 14, 16)        2320      \n",
      "                                                                 \n",
      " max_pooling2d_1 (MaxPooling  (None, 7, 7, 16)         0         \n",
      " 2D)                                                             \n",
      "                                                                 \n",
      " flatten (Flatten)           (None, 784)               0         \n",
      "                                                                 \n",
      " dense (Dense)               (None, 128)               100480    \n",
      "                                                                 \n",
      " dense_1 (Dense)             (None, 10)                1290      \n",
      "                                                                 \n",
      "=================================================================\n",
      "Total params: 113,242\n",
      "Trainable params: 113,242\n",
      "Non-trainable params: 0\n",
      "_________________________________________________________________\n"
     ]
    }
   ],
   "source": [
    "from tensorflow.keras import Sequential\n",
    "from tensorflow.keras.layers import Conv2D, MaxPooling2D, Dense, Flatten\n",
    "\n",
    "model = Sequential()\n",
    "model.add(Conv2D(16, (5, 5), activation=\"relu\", input_shape=(28, 28, 1), padding=\"same\"))\n",
    "model.add(Conv2D(16, (5, 5), activation=\"relu\", padding=\"same\"))\n",
    "model.add(MaxPooling2D(2, 2))\n",
    "model.add(Conv2D(16, (3, 3), activation=\"relu\", padding=\"same\"))\n",
    "model.add(Conv2D(16, (3, 3), activation=\"relu\", padding=\"same\"))\n",
    "model.add(MaxPooling2D(2, 2))\n",
    "model.add(Flatten())\n",
    "model.add(Dense(128, activation=\"relu\"))\n",
    "model.add(Dense(10, activation=\"softmax\"))\n",
    "\n",
    "model.summary()\n",
    "\n",
    "from tensorflow.keras.losses import categorical_crossentropy\n",
    "model.compile(loss=categorical_crossentropy, optimizer=\"Adam\", metrics=[\"accuracy\"])"
   ]
  },
  {
   "cell_type": "markdown",
   "metadata": {},
   "source": [
    "### Training!!!"
   ]
  },
  {
   "cell_type": "code",
   "execution_count": 4,
   "metadata": {},
   "outputs": [
    {
     "name": "stdout",
     "output_type": "stream",
     "text": [
      "Epoch 1/12\n"
     ]
    },
    {
     "name": "stderr",
     "output_type": "stream",
     "text": [
      "2022-06-12 13:50:08.449698: W tensorflow/core/platform/profile_utils/cpu_utils.cc:128] Failed to get CPU frequency: 0 Hz\n",
      "2022-06-12 13:50:08.630465: I tensorflow/core/grappler/optimizers/custom_graph_optimizer_registry.cc:112] Plugin optimizer for device_type GPU is enabled.\n"
     ]
    },
    {
     "name": "stdout",
     "output_type": "stream",
     "text": [
      "307/307 [==============================] - ETA: 0s - loss: 0.2973 - accuracy: 0.9066"
     ]
    },
    {
     "name": "stderr",
     "output_type": "stream",
     "text": [
      "2022-06-12 13:50:16.396103: I tensorflow/core/grappler/optimizers/custom_graph_optimizer_registry.cc:112] Plugin optimizer for device_type GPU is enabled.\n"
     ]
    },
    {
     "name": "stdout",
     "output_type": "stream",
     "text": [
      "307/307 [==============================] - 9s 23ms/step - loss: 0.2973 - accuracy: 0.9066 - val_loss: 0.0659 - val_accuracy: 0.9784\n",
      "Epoch 2/12\n",
      "307/307 [==============================] - 7s 21ms/step - loss: 0.0701 - accuracy: 0.9788 - val_loss: 0.0462 - val_accuracy: 0.9859\n",
      "Epoch 3/12\n",
      "307/307 [==============================] - 6s 21ms/step - loss: 0.0483 - accuracy: 0.9852 - val_loss: 0.0368 - val_accuracy: 0.9889\n",
      "Epoch 4/12\n",
      "307/307 [==============================] - 6s 21ms/step - loss: 0.0372 - accuracy: 0.9881 - val_loss: 0.0312 - val_accuracy: 0.9894\n",
      "Epoch 5/12\n",
      "307/307 [==============================] - 6s 21ms/step - loss: 0.0313 - accuracy: 0.9903 - val_loss: 0.0261 - val_accuracy: 0.9920\n",
      "Epoch 6/12\n",
      "307/307 [==============================] - 6s 21ms/step - loss: 0.0256 - accuracy: 0.9918 - val_loss: 0.0214 - val_accuracy: 0.9928\n",
      "Epoch 7/12\n",
      "307/307 [==============================] - 7s 21ms/step - loss: 0.0221 - accuracy: 0.9929 - val_loss: 0.0223 - val_accuracy: 0.9927\n",
      "Epoch 8/12\n",
      "307/307 [==============================] - 7s 21ms/step - loss: 0.0177 - accuracy: 0.9942 - val_loss: 0.0212 - val_accuracy: 0.9935\n",
      "Epoch 9/12\n",
      "307/307 [==============================] - 6s 21ms/step - loss: 0.0156 - accuracy: 0.9948 - val_loss: 0.0214 - val_accuracy: 0.9933\n",
      "Epoch 10/12\n",
      "307/307 [==============================] - 6s 21ms/step - loss: 0.0126 - accuracy: 0.9960 - val_loss: 0.0243 - val_accuracy: 0.9930\n",
      "Epoch 11/12\n",
      "307/307 [==============================] - 7s 21ms/step - loss: 0.0129 - accuracy: 0.9956 - val_loss: 0.0214 - val_accuracy: 0.9933\n",
      "Epoch 12/12\n",
      "307/307 [==============================] - 7s 21ms/step - loss: 0.0115 - accuracy: 0.9962 - val_loss: 0.0205 - val_accuracy: 0.9937\n"
     ]
    }
   ],
   "source": [
    "model_stats = model.fit(\n",
    "    X_train,\n",
    "    y_train,\n",
    "    batch_size=196,\n",
    "    epochs=12,\n",
    "    verbose=1,\n",
    "    validation_data=(X_test, y_test)\n",
    ")"
   ]
  },
  {
   "cell_type": "markdown",
   "metadata": {},
   "source": [
    "### Training Results"
   ]
  },
  {
   "cell_type": "code",
   "execution_count": 5,
   "metadata": {},
   "outputs": [
    {
     "data": {
      "text/plain": [
       "<matplotlib.legend.Legend at 0x1566c2ee0>"
      ]
     },
     "execution_count": 5,
     "metadata": {},
     "output_type": "execute_result"
    },
    {
     "data": {
      "image/png": "[encoded data removed]",
      "text/plain": [
       "<Figure size 432x288 with 1 Axes>"
      ]
     },
     "metadata": {
      "needs_background": "light"
     },
     "output_type": "display_data"
    }
   ],
   "source": [
    "plt.plot(model_stats.history['loss'])\n",
    "plt.plot(model_stats.history['val_loss'])\n",
    "plt.legend([\"train loss\", \"test loss\"], loc=\"upper left\")"
   ]
  },
  {
   "cell_type": "markdown",
   "metadata": {},
   "source": [
    "### Trying your own images!"
   ]
  },
  {
   "cell_type": "code",
   "execution_count": 8,
   "metadata": {},
   "outputs": [
    {
     "name": "stdout",
     "output_type": "stream",
     "text": [
      "Raw output: [[5.4385630e-23 5.5060689e-20 2.7210685e-22 6.7517758e-13 6.3728198e-23\n",
      "  1.0000000e+00 1.7767536e-16 1.4072932e-19 6.6001940e-16 1.9336711e-13]]\n",
      "Predicted number: 5\n"
     ]
    },
    {
     "data": {
      "text/plain": [
       "<matplotlib.image.AxesImage at 0x143429e20>"
      ]
     },
     "execution_count": 8,
     "metadata": {},
     "output_type": "execute_result"
    },
    {
     "data": {
      "image/png": "[encoded data removed]",
      "text/plain": [
       "<Figure size 432x288 with 1 Axes>"
      ]
     },
     "metadata": {
      "needs_background": "light"
     },
     "output_type": "display_data"
    }
   ],
   "source": [
    "from PIL import Image\n",
    "\n",
    "# Opening our own image and applying the same preprocessing steps\n",
    "img = Image.open(\"/Users/eric/Downloads/test_image.png\")\n",
    "img = np.asarray(img.convert('L'))\n",
    "img = img.astype('float32')\n",
    "img /= 255.0\n",
    "img = img.reshape(1, 28, 28, 1)\n",
    "\n",
    "pred = model.predict(img)\n",
    "print(\"Raw output:\", pred)\n",
    "print(\"Predicted number:\", pred[0].argmax())\n",
    "plt.imshow(img[0], cmap=\"gray\")"
   ]
  }
 ],
 "metadata": {
  "kernelspec": {
   "display_name": "Python 3.9.0 ('ml')",
   "language": "python",
   "name": "python3"
  },
  "language_info": {
   "codemirror_mode": {
    "name": "ipython",
    "version": 3
   },
   "file_extension": ".py",
   "mimetype": "text/x-python",
   "name": "python",
   "nbconvert_exporter": "python",
   "pygments_lexer": "ipython3",
   "version": "3.9.0"
  },
  "orig_nbformat": 4,
  "vscode": {
   "interpreter": {
    "hash": "3dfbd2e278a2b04bc7e57a86c2885905c8d8a47fbdd48769f3daa871fa8c4e0e"
   }
  }
 },
 "nbformat": 4,
 "nbformat_minor": 2
}
